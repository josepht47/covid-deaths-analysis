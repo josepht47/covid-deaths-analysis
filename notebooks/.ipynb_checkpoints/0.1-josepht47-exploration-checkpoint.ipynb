{
 "cells": [
  {
   "cell_type": "code",
   "execution_count": 8,
   "id": "2474b224",
   "metadata": {},
   "outputs": [],
   "source": [
    "import matplotlib.pyplot as plt\n",
    "import numpy as np\n",
    "import pandas as pd"
   ]
  },
  {
   "cell_type": "code",
   "execution_count": 13,
   "id": "1416f84b",
   "metadata": {},
   "outputs": [],
   "source": [
    "data_src='/Users/josephthomas/Documents/Projects/Data Projects/covid_death_trends/data/'"
   ]
  },
  {
   "cell_type": "code",
   "execution_count": 33,
   "id": "16b36c9c",
   "metadata": {},
   "outputs": [],
   "source": [
    "df_2018=pd.read_csv(data_src+'raw/2018_raw.txt',delimiter=\"\\t\")\n",
    "df_2019=pd.read_csv(data_src+'raw/2019_raw.txt',delimiter=\"\\t\")\n",
    "df_2020=pd.read_csv(data_src+'raw/2020_raw.txt',delimiter=\"\\t\")\n",
    "df_2021=pd.read_csv(data_src+'raw/2021_raw.txt',delimiter=\"\\t\")"
   ]
  },
  {
   "cell_type": "code",
   "execution_count": 40,
   "id": "d055d375",
   "metadata": {},
   "outputs": [],
   "source": [
    "df_series=pd.read_csv(data_src+'raw/Total_deaths_time.txt',delimiter=\"\\t\")"
   ]
  },
  {
   "cell_type": "code",
   "execution_count": 108,
   "id": "2b3ff838",
   "metadata": {},
   "outputs": [],
   "source": [
    "df=pd.read_csv(data_src+'raw/Total_state.txt',delimiter=\"\\t\")"
   ]
  },
  {
   "cell_type": "code",
   "execution_count": 42,
   "id": "0718d81f",
   "metadata": {},
   "outputs": [
    {
     "data": {
      "text/html": [
       "<div>\n",
       "<style scoped>\n",
       "    .dataframe tbody tr th:only-of-type {\n",
       "        vertical-align: middle;\n",
       "    }\n",
       "\n",
       "    .dataframe tbody tr th {\n",
       "        vertical-align: top;\n",
       "    }\n",
       "\n",
       "    .dataframe thead th {\n",
       "        text-align: right;\n",
       "    }\n",
       "</style>\n",
       "<table border=\"1\" class=\"dataframe\">\n",
       "  <thead>\n",
       "    <tr style=\"text-align: right;\">\n",
       "      <th></th>\n",
       "      <th>Notes</th>\n",
       "      <th>Residence State</th>\n",
       "      <th>Residence State Code</th>\n",
       "      <th>Year</th>\n",
       "      <th>Year Code</th>\n",
       "      <th>Month</th>\n",
       "      <th>Month Code</th>\n",
       "      <th>Deaths</th>\n",
       "      <th>Population</th>\n",
       "      <th>Crude Rate</th>\n",
       "      <th>% of Total Deaths</th>\n",
       "    </tr>\n",
       "  </thead>\n",
       "  <tbody>\n",
       "    <tr>\n",
       "      <th>0</th>\n",
       "      <td>NaN</td>\n",
       "      <td>Alabama</td>\n",
       "      <td>1.0</td>\n",
       "      <td>2018</td>\n",
       "      <td>2018.0</td>\n",
       "      <td>Jan., 2018</td>\n",
       "      <td>2018/01</td>\n",
       "      <td>5701.0</td>\n",
       "      <td>Not Applicable</td>\n",
       "      <td>Not Applicable</td>\n",
       "      <td>0.0%</td>\n",
       "    </tr>\n",
       "    <tr>\n",
       "      <th>1</th>\n",
       "      <td>NaN</td>\n",
       "      <td>Alabama</td>\n",
       "      <td>1.0</td>\n",
       "      <td>2018</td>\n",
       "      <td>2018.0</td>\n",
       "      <td>Feb., 2018</td>\n",
       "      <td>2018/02</td>\n",
       "      <td>4522.0</td>\n",
       "      <td>Not Applicable</td>\n",
       "      <td>Not Applicable</td>\n",
       "      <td>0.0%</td>\n",
       "    </tr>\n",
       "    <tr>\n",
       "      <th>2</th>\n",
       "      <td>NaN</td>\n",
       "      <td>Alabama</td>\n",
       "      <td>1.0</td>\n",
       "      <td>2018</td>\n",
       "      <td>2018.0</td>\n",
       "      <td>Mar., 2018</td>\n",
       "      <td>2018/03</td>\n",
       "      <td>4660.0</td>\n",
       "      <td>Not Applicable</td>\n",
       "      <td>Not Applicable</td>\n",
       "      <td>0.0%</td>\n",
       "    </tr>\n",
       "    <tr>\n",
       "      <th>3</th>\n",
       "      <td>NaN</td>\n",
       "      <td>Alabama</td>\n",
       "      <td>1.0</td>\n",
       "      <td>2018</td>\n",
       "      <td>2018.0</td>\n",
       "      <td>Apr., 2018</td>\n",
       "      <td>2018/04</td>\n",
       "      <td>4406.0</td>\n",
       "      <td>Not Applicable</td>\n",
       "      <td>Not Applicable</td>\n",
       "      <td>0.0%</td>\n",
       "    </tr>\n",
       "    <tr>\n",
       "      <th>4</th>\n",
       "      <td>NaN</td>\n",
       "      <td>Alabama</td>\n",
       "      <td>1.0</td>\n",
       "      <td>2018</td>\n",
       "      <td>2018.0</td>\n",
       "      <td>May, 2018</td>\n",
       "      <td>2018/05</td>\n",
       "      <td>4458.0</td>\n",
       "      <td>Not Applicable</td>\n",
       "      <td>Not Applicable</td>\n",
       "      <td>0.0%</td>\n",
       "    </tr>\n",
       "  </tbody>\n",
       "</table>\n",
       "</div>"
      ],
      "text/plain": [
       "  Notes Residence State  Residence State Code  Year  Year Code       Month  \\\n",
       "0   NaN         Alabama                   1.0  2018     2018.0  Jan., 2018   \n",
       "1   NaN         Alabama                   1.0  2018     2018.0  Feb., 2018   \n",
       "2   NaN         Alabama                   1.0  2018     2018.0  Mar., 2018   \n",
       "3   NaN         Alabama                   1.0  2018     2018.0  Apr., 2018   \n",
       "4   NaN         Alabama                   1.0  2018     2018.0   May, 2018   \n",
       "\n",
       "  Month Code  Deaths      Population      Crude Rate % of Total Deaths  \n",
       "0    2018/01  5701.0  Not Applicable  Not Applicable              0.0%  \n",
       "1    2018/02  4522.0  Not Applicable  Not Applicable              0.0%  \n",
       "2    2018/03  4660.0  Not Applicable  Not Applicable              0.0%  \n",
       "3    2018/04  4406.0  Not Applicable  Not Applicable              0.0%  \n",
       "4    2018/05  4458.0  Not Applicable  Not Applicable              0.0%  "
      ]
     },
     "execution_count": 42,
     "metadata": {},
     "output_type": "execute_result"
    }
   ],
   "source": [
    "df.head()"
   ]
  },
  {
   "cell_type": "code",
   "execution_count": 101,
   "id": "d5f6307f",
   "metadata": {},
   "outputs": [],
   "source": [
    "grouped=df[[\"Year\",\"Month\",\"Deaths\"]].groupby([\"Year\",\"Month\"]).sum().reset_index()"
   ]
  },
  {
   "cell_type": "code",
   "execution_count": 102,
   "id": "6d1cc5cd",
   "metadata": {},
   "outputs": [],
   "source": [
    "grouped[\"Month\"]=grouped[\"Month\"].apply(lambda x:x.split(\".\")[0])\n",
    "grouped[\"Month\"]=grouped[\"Month\"].apply(lambda x:x.split(\",\")[0])\n",
    "grouped[\"Year\"]=grouped[\"Year\"].apply(lambda x:x.split(\" \")[0])"
   ]
  },
  {
   "cell_type": "code",
   "execution_count": 107,
   "id": "6ccb8bf7",
   "metadata": {},
   "outputs": [],
   "source": [
    "grouped[\"Year\"]=pd.to_datetime(grouped.Year,format='%Y', errors='coerce').dt.year\n",
    "grouped[\"Month\"]=pd.to_datetime(grouped.Month,format='%b', errors='coerce').dt.month"
   ]
  },
  {
   "cell_type": "code",
   "execution_count": 120,
   "id": "b6281dfd",
   "metadata": {},
   "outputs": [],
   "source": [
    "df1=grouped[grouped[\"Year\"]==2018].sort_values(by=\"Month\")\n",
    "df2=grouped[grouped[\"Year\"]==2019].sort_values(by=\"Month\")\n",
    "df3=grouped[grouped[\"Year\"]==2020].sort_values(by=\"Month\")\n",
    "df4=grouped[grouped[\"Year\"]==2021].sort_values(by=\"Month\")"
   ]
  },
  {
   "cell_type": "code",
   "execution_count": 123,
   "id": "01c6d930",
   "metadata": {},
   "outputs": [
    {
     "data": {
      "text/plain": [
       "<matplotlib.legend.Legend at 0x7fca504f5e80>"
      ]
     },
     "execution_count": 123,
     "metadata": {},
     "output_type": "execute_result"
    },
    {
     "data": {
      "image/png": "[encoded data removed]",
      "text/plain": [
       "<Figure size 432x288 with 1 Axes>"
      ]
     },
     "metadata": {
      "needs_background": "light"
     },
     "output_type": "display_data"
    }
   ],
   "source": [
    "plt.plot(\"Month\",\"Deaths\",data=df1,label=\"2018\")\n",
    "plt.plot(\"Month\",\"Deaths\",data=df2,label=\"2019\")\n",
    "plt.plot(\"Month\",\"Deaths\",data=df3,label=\"2020\")\n",
    "plt.plot(\"Month\",\"Deaths\",data=df4,label=\"2021\")\n",
    "plt.legend()"
   ]
  },
  {
   "cell_type": "code",
   "execution_count": null,
   "id": "b31ce2e9",
   "metadata": {},
   "outputs": [],
   "source": []
  }
 ],
 "metadata": {
  "kernelspec": {
   "display_name": "Python 3 (ipykernel)",
   "language": "python",
   "name": "python3"
  },
  "language_info": {
   "codemirror_mode": {
    "name": "ipython",
    "version": 3
   },
   "file_extension": ".py",
   "mimetype": "text/x-python",
   "name": "python",
   "nbconvert_exporter": "python",
   "pygments_lexer": "ipython3",
   "version": "3.9.7"
  }
 },
 "nbformat": 4,
 "nbformat_minor": 5
}
